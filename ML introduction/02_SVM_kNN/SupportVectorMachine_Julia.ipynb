{
 "cells": [
  {
   "cell_type": "code",
   "execution_count": 8,
   "metadata": {},
   "outputs": [
    {
     "name": "stdout",
     "output_type": "stream",
     "text": [
      "import MLJLIBSVMInterface ✔\n",
      "import MLJLIBSVMInterface ✔\n"
     ]
    },
    {
     "name": "stderr",
     "output_type": "stream",
     "text": [
      "┌ Info: For silent loading, specify `verbosity=0`. \n",
      "└ @ Main /Users/maximilianpichler/.julia/packages/MLJModels/kwZnx/src/loading.jl:168\n",
      "┌ Info: For silent loading, specify `verbosity=0`. \n",
      "└ @ Main /Users/maximilianpichler/.julia/packages/MLJModels/kwZnx/src/loading.jl:168\n"
     ]
    },
    {
     "data": {
      "text/plain": [
       "MLJLIBSVMInterface.NuSVR"
      ]
     },
     "execution_count": 8,
     "metadata": {},
     "output_type": "execute_result"
    }
   ],
   "source": [
    "using MLJ\n",
    "using RDatasets\n",
    "# using Pkg\n",
    "# Pkg.add(\"LIBSVM\")\n",
    "# Pkg.add(\"MLJLIBSVMInterface\")\n",
    "iris = dataset(\"datasets\", \"iris\")\n",
    "SVM_classifier = @load NuSVC pkg=LIBSVM\n",
    "SVM_regressor =  @load NuSVR pkg=LIBSVM"
   ]
  },
  {
   "cell_type": "code",
   "execution_count": 9,
   "metadata": {},
   "outputs": [
    {
     "data": {
      "text/plain": [
       "150-element CategoricalArrays.CategoricalArray{String,1,UInt8}:\n",
       " \"setosa\"\n",
       " \"setosa\"\n",
       " \"setosa\"\n",
       " \"setosa\"\n",
       " \"setosa\"\n",
       " \"setosa\"\n",
       " \"setosa\"\n",
       " \"setosa\"\n",
       " \"setosa\"\n",
       " \"setosa\"\n",
       " \"setosa\"\n",
       " \"setosa\"\n",
       " \"setosa\"\n",
       " ⋮\n",
       " \"virginica\"\n",
       " \"virginica\"\n",
       " \"virginica\"\n",
       " \"virginica\"\n",
       " \"virginica\"\n",
       " \"virginica\"\n",
       " \"virginica\"\n",
       " \"virginica\"\n",
       " \"virginica\"\n",
       " \"virginica\"\n",
       " \"virginica\"\n",
       " \"virginica\""
      ]
     },
     "execution_count": 9,
     "metadata": {},
     "output_type": "execute_result"
    }
   ],
   "source": [
    "const X = iris[:, 1:4]\n",
    "const Y = iris[:, 5]"
   ]
  },
  {
   "cell_type": "markdown",
   "metadata": {},
   "source": [
    "## Classification\n",
    "Response: Species -> 3 classes"
   ]
  },
  {
   "cell_type": "code",
   "execution_count": 13,
   "metadata": {},
   "outputs": [
    {
     "name": "stderr",
     "output_type": "stream",
     "text": [
      "┌ Info: Training Machine{NuSVC,…}.\n",
      "└ @ MLJBase /Users/maximilianpichler/.julia/packages/MLJBase/hHa7b/src/machines.jl:464\n"
     ]
    },
    {
     "data": {
      "text/plain": [
       "Machine{NuSVC,…} trained 1 time; caches data\n",
       "  model: MLJLIBSVMInterface.NuSVC\n",
       "  args: \n",
       "    1:\tSource @119 ⏎ `Table{AbstractVector{Continuous}}`\n",
       "    2:\tSource @767 ⏎ `AbstractVector{Multiclass{3}}`\n"
      ]
     },
     "execution_count": 13,
     "metadata": {},
     "output_type": "execute_result"
    }
   ],
   "source": [
    "model = SVM_classifier()\n",
    "mach = machine(model, X, Y)\n",
    "fit!(mach)"
   ]
  },
  {
   "cell_type": "markdown",
   "metadata": {},
   "source": [
    "Make predictions:"
   ]
  },
  {
   "cell_type": "code",
   "execution_count": 14,
   "metadata": {},
   "outputs": [
    {
     "data": {
      "text/plain": [
       "150-element CategoricalArrays.CategoricalArray{String,1,UInt8}:\n",
       " \"setosa\"\n",
       " \"setosa\"\n",
       " \"setosa\"\n",
       " \"setosa\"\n",
       " \"setosa\"\n",
       " \"setosa\"\n",
       " \"setosa\"\n",
       " \"setosa\"\n",
       " \"setosa\"\n",
       " \"setosa\"\n",
       " \"setosa\"\n",
       " \"setosa\"\n",
       " \"setosa\"\n",
       " ⋮\n",
       " \"versicolor\"\n",
       " \"virginica\"\n",
       " \"virginica\"\n",
       " \"virginica\"\n",
       " \"virginica\"\n",
       " \"virginica\"\n",
       " \"virginica\"\n",
       " \"virginica\"\n",
       " \"virginica\"\n",
       " \"virginica\"\n",
       " \"virginica\"\n",
       " \"virginica\""
      ]
     },
     "execution_count": 14,
     "metadata": {},
     "output_type": "execute_result"
    }
   ],
   "source": [
    "predict(mach, X)"
   ]
  },
  {
   "cell_type": "markdown",
   "metadata": {},
   "source": [
    "## Regression\n",
    "Response: Sepal.Length -> continuous"
   ]
  },
  {
   "cell_type": "code",
   "execution_count": 15,
   "metadata": {},
   "outputs": [
    {
     "name": "stderr",
     "output_type": "stream",
     "text": [
      "┌ Info: Training Machine{NuSVR,…}.\n",
      "└ @ MLJBase /Users/maximilianpichler/.julia/packages/MLJBase/hHa7b/src/machines.jl:464\n"
     ]
    },
    {
     "data": {
      "text/plain": [
       "Machine{NuSVR,…} trained 1 time; caches data\n",
       "  model: MLJLIBSVMInterface.NuSVR\n",
       "  args: \n",
       "    1:\tSource @547 ⏎ `Table{AbstractVector{Continuous}}`\n",
       "    2:\tSource @722 ⏎ `AbstractVector{Continuous}`\n"
      ]
     },
     "execution_count": 15,
     "metadata": {},
     "output_type": "execute_result"
    }
   ],
   "source": [
    "model = SVM_regressor()\n",
    "mach = machine(model, X[:,2:4], X[:,1])\n",
    "fit!(mach)"
   ]
  },
  {
   "cell_type": "markdown",
   "metadata": {},
   "source": [
    "Make predictions:"
   ]
  },
  {
   "cell_type": "code",
   "execution_count": 16,
   "metadata": {},
   "outputs": [
    {
     "data": {
      "text/plain": [
       "150-element Vector{Float64}:\n",
       " 4.995419130326675\n",
       " 4.7305502426547905\n",
       " 4.815947607801751\n",
       " 4.79165437264312\n",
       " 5.056066651779678\n",
       " 5.303374349483335\n",
       " 4.934392477479545\n",
       " 4.9527959385526295\n",
       " 4.688152905299879\n",
       " 4.7985368336750565\n",
       " 5.13508237051428\n",
       " 4.972656204925029\n",
       " 4.7373866667945155\n",
       " ⋮\n",
       " 6.149409312244901\n",
       " 6.5190560782077975\n",
       " 6.552245049581444\n",
       " 6.192019948250429\n",
       " 6.225128506478926\n",
       " 6.874346464417773\n",
       " 6.641130346975662\n",
       " 6.2372249806557765\n",
       " 6.077505774877065\n",
       " 6.367867133564531\n",
       " 6.516156351286963\n",
       " 6.374890373017209"
      ]
     },
     "execution_count": 16,
     "metadata": {},
     "output_type": "execute_result"
    }
   ],
   "source": [
    "predict(mach, X[:,2:4])"
   ]
  }
 ],
 "metadata": {
  "interpreter": {
   "hash": "b2c8e16c7ccab309b6c7ff727be01f1772ce77360f8d9c2b6c3a69dbab5f4903"
  },
  "kernelspec": {
   "display_name": "Julia 1.7.2",
   "language": "julia",
   "name": "julia-1.7"
  },
  "language_info": {
   "file_extension": ".jl",
   "mimetype": "application/julia",
   "name": "julia",
   "version": "1.7.2"
  },
  "orig_nbformat": 4
 },
 "nbformat": 4,
 "nbformat_minor": 2
}
