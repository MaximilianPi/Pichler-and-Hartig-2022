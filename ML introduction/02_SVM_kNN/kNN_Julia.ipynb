{
 "cells": [
  {
   "cell_type": "code",
   "execution_count": 3,
   "metadata": {},
   "outputs": [
    {
     "name": "stdout",
     "output_type": "stream",
     "text": [
      "import NearestNeighborModels ✔\n",
      "import NearestNeighborModels ✔\n"
     ]
    },
    {
     "name": "stderr",
     "output_type": "stream",
     "text": [
      "┌ Info: For silent loading, specify `verbosity=0`. \n",
      "└ @ Main /Users/maximilianpichler/.julia/packages/MLJModels/kwZnx/src/loading.jl:168\n",
      "┌ Info: Precompiling NearestNeighborModels [636a865e-7cf4-491e-846c-de09b730eb36]\n",
      "└ @ Base loading.jl:1423\n",
      "\u001b[33m\u001b[1m┌ \u001b[22m\u001b[39m\u001b[33m\u001b[1mWarning: \u001b[22m\u001b[39mModule FillArrays with build ID 531111417347876 is missing from the cache.\n",
      "\u001b[33m\u001b[1m│ \u001b[22m\u001b[39mThis may mean FillArrays [1a297f60-69ca-5386-bcde-b61e274b549b] does not support precompilation but is imported by a module that does.\n",
      "\u001b[33m\u001b[1m└ \u001b[22m\u001b[39m\u001b[90m@ Base loading.jl:1107\u001b[39m\n",
      "┌ Info: Skipping precompilation since __precompile__(false). Importing NearestNeighborModels [636a865e-7cf4-491e-846c-de09b730eb36].\n",
      "└ @ Base loading.jl:1124\n",
      "┌ Info: For silent loading, specify `verbosity=0`. \n",
      "└ @ Main /Users/maximilianpichler/.julia/packages/MLJModels/kwZnx/src/loading.jl:168\n"
     ]
    },
    {
     "data": {
      "text/plain": [
       "NearestNeighborModels.KNNRegressor"
      ]
     },
     "execution_count": 3,
     "metadata": {},
     "output_type": "execute_result"
    }
   ],
   "source": [
    "using MLJ\n",
    "using RDatasets\n",
    "using Pkg\n",
    "# Pkg.add(\"NearestNeighborModels\")\n",
    "iris = dataset(\"datasets\", \"iris\")\n",
    "kNN_classifier = @load KNNClassifier pkg=NearestNeighborModels\n",
    "kNN_regressor =  @load KNNRegressor pkg=NearestNeighborModels"
   ]
  },
  {
   "cell_type": "code",
   "execution_count": 4,
   "metadata": {},
   "outputs": [
    {
     "data": {
      "text/plain": [
       "150-element CategoricalArrays.CategoricalArray{String,1,UInt8}:\n",
       " \"setosa\"\n",
       " \"setosa\"\n",
       " \"setosa\"\n",
       " \"setosa\"\n",
       " \"setosa\"\n",
       " \"setosa\"\n",
       " \"setosa\"\n",
       " \"setosa\"\n",
       " \"setosa\"\n",
       " \"setosa\"\n",
       " \"setosa\"\n",
       " \"setosa\"\n",
       " \"setosa\"\n",
       " ⋮\n",
       " \"virginica\"\n",
       " \"virginica\"\n",
       " \"virginica\"\n",
       " \"virginica\"\n",
       " \"virginica\"\n",
       " \"virginica\"\n",
       " \"virginica\"\n",
       " \"virginica\"\n",
       " \"virginica\"\n",
       " \"virginica\"\n",
       " \"virginica\"\n",
       " \"virginica\""
      ]
     },
     "execution_count": 4,
     "metadata": {},
     "output_type": "execute_result"
    }
   ],
   "source": [
    "const X = iris[:, 1:4]\n",
    "const Y = iris[:, 5]"
   ]
  },
  {
   "cell_type": "markdown",
   "metadata": {},
   "source": [
    "## Classification\n",
    "Response: Species -> 3 classes"
   ]
  },
  {
   "cell_type": "code",
   "execution_count": 5,
   "metadata": {},
   "outputs": [
    {
     "name": "stderr",
     "output_type": "stream",
     "text": [
      "┌ Info: Training Machine{KNNClassifier,…}.\n",
      "└ @ MLJBase /Users/maximilianpichler/.julia/packages/MLJBase/hHa7b/src/machines.jl:464\n"
     ]
    },
    {
     "data": {
      "text/plain": [
       "Machine{KNNClassifier,…} trained 1 time; caches data\n",
       "  model: NearestNeighborModels.KNNClassifier\n",
       "  args: \n",
       "    1:\tSource @124 ⏎ `Table{AbstractVector{Continuous}}`\n",
       "    2:\tSource @011 ⏎ `AbstractVector{Multiclass{3}}`\n"
      ]
     },
     "execution_count": 5,
     "metadata": {},
     "output_type": "execute_result"
    }
   ],
   "source": [
    "model = kNN_classifier()\n",
    "mach = machine(model, X, Y)\n",
    "fit!(mach)"
   ]
  },
  {
   "cell_type": "markdown",
   "metadata": {},
   "source": [
    "Make predictions:"
   ]
  },
  {
   "cell_type": "code",
   "execution_count": 6,
   "metadata": {},
   "outputs": [
    {
     "data": {
      "text/plain": [
       "150-element CategoricalDistributions.UnivariateFiniteVector{Multiclass{3}, String, UInt8, Float64}:\n",
       " UnivariateFinite{Multiclass{3}}(setosa=>1.0, versicolor=>0.0, virginica=>0.0)\n",
       " UnivariateFinite{Multiclass{3}}(setosa=>1.0, versicolor=>0.0, virginica=>0.0)\n",
       " UnivariateFinite{Multiclass{3}}(setosa=>1.0, versicolor=>0.0, virginica=>0.0)\n",
       " UnivariateFinite{Multiclass{3}}(setosa=>1.0, versicolor=>0.0, virginica=>0.0)\n",
       " UnivariateFinite{Multiclass{3}}(setosa=>1.0, versicolor=>0.0, virginica=>0.0)\n",
       " UnivariateFinite{Multiclass{3}}(setosa=>1.0, versicolor=>0.0, virginica=>0.0)\n",
       " UnivariateFinite{Multiclass{3}}(setosa=>1.0, versicolor=>0.0, virginica=>0.0)\n",
       " UnivariateFinite{Multiclass{3}}(setosa=>1.0, versicolor=>0.0, virginica=>0.0)\n",
       " UnivariateFinite{Multiclass{3}}(setosa=>1.0, versicolor=>0.0, virginica=>0.0)\n",
       " UnivariateFinite{Multiclass{3}}(setosa=>1.0, versicolor=>0.0, virginica=>0.0)\n",
       " UnivariateFinite{Multiclass{3}}(setosa=>1.0, versicolor=>0.0, virginica=>0.0)\n",
       " UnivariateFinite{Multiclass{3}}(setosa=>1.0, versicolor=>0.0, virginica=>0.0)\n",
       " UnivariateFinite{Multiclass{3}}(setosa=>1.0, versicolor=>0.0, virginica=>0.0)\n",
       " ⋮\n",
       " UnivariateFinite{Multiclass{3}}(setosa=>0.0, versicolor=>0.2, virginica=>0.8)\n",
       " UnivariateFinite{Multiclass{3}}(setosa=>0.0, versicolor=>0.0, virginica=>1.0)\n",
       " UnivariateFinite{Multiclass{3}}(setosa=>0.0, versicolor=>0.0, virginica=>1.0)\n",
       " UnivariateFinite{Multiclass{3}}(setosa=>0.0, versicolor=>0.0, virginica=>1.0)\n",
       " UnivariateFinite{Multiclass{3}}(setosa=>0.0, versicolor=>0.0, virginica=>1.0)\n",
       " UnivariateFinite{Multiclass{3}}(setosa=>0.0, versicolor=>0.0, virginica=>1.0)\n",
       " UnivariateFinite{Multiclass{3}}(setosa=>0.0, versicolor=>0.0, virginica=>1.0)\n",
       " UnivariateFinite{Multiclass{3}}(setosa=>0.0, versicolor=>0.0, virginica=>1.0)\n",
       " UnivariateFinite{Multiclass{3}}(setosa=>0.0, versicolor=>0.2, virginica=>0.8)\n",
       " UnivariateFinite{Multiclass{3}}(setosa=>0.0, versicolor=>0.0, virginica=>1.0)\n",
       " UnivariateFinite{Multiclass{3}}(setosa=>0.0, versicolor=>0.0, virginica=>1.0)\n",
       " UnivariateFinite{Multiclass{3}}(setosa=>0.0, versicolor=>0.0, virginica=>1.0)"
      ]
     },
     "execution_count": 6,
     "metadata": {},
     "output_type": "execute_result"
    }
   ],
   "source": [
    "predict(mach, X)"
   ]
  },
  {
   "cell_type": "markdown",
   "metadata": {},
   "source": [
    "## Regression\n",
    "Response: Sepal.Length -> continuous"
   ]
  },
  {
   "cell_type": "code",
   "execution_count": 7,
   "metadata": {},
   "outputs": [
    {
     "name": "stderr",
     "output_type": "stream",
     "text": [
      "┌ Info: Training Machine{KNNRegressor,…}.\n",
      "└ @ MLJBase /Users/maximilianpichler/.julia/packages/MLJBase/hHa7b/src/machines.jl:464\n"
     ]
    },
    {
     "data": {
      "text/plain": [
       "Machine{KNNRegressor,…} trained 1 time; caches data\n",
       "  model: NearestNeighborModels.KNNRegressor\n",
       "  args: \n",
       "    1:\tSource @326 ⏎ `Table{AbstractVector{Continuous}}`\n",
       "    2:\tSource @041 ⏎ `AbstractVector{Continuous}`\n"
      ]
     },
     "execution_count": 7,
     "metadata": {},
     "output_type": "execute_result"
    }
   ],
   "source": [
    "model = kNN_regressor()\n",
    "mach = machine(model, X[:,2:4], X[:,1])\n",
    "fit!(mach)"
   ]
  },
  {
   "cell_type": "markdown",
   "metadata": {},
   "source": [
    "Make predictions:"
   ]
  },
  {
   "cell_type": "code",
   "execution_count": 8,
   "metadata": {},
   "outputs": [
    {
     "data": {
      "text/plain": [
       "150-element Vector{Float64}:\n",
       " 5.18\n",
       " 4.659999999999999\n",
       " 4.74\n",
       " 4.780000000000001\n",
       " 5.12\n",
       " 5.279999999999999\n",
       " 5.0\n",
       " 5.0600000000000005\n",
       " 4.659999999999999\n",
       " 4.8\n",
       " 5.18\n",
       " 5.1000000000000005\n",
       " 4.68\n",
       " ⋮\n",
       " 6.18\n",
       " 6.660000000000001\n",
       " 6.62\n",
       " 6.460000000000001\n",
       " 6.12\n",
       " 6.840000000000001\n",
       " 6.58\n",
       " 6.459999999999999\n",
       " 5.9799999999999995\n",
       " 6.5\n",
       " 6.539999999999999\n",
       " 6.340000000000001"
      ]
     },
     "execution_count": 8,
     "metadata": {},
     "output_type": "execute_result"
    }
   ],
   "source": [
    "predict(mach, X[:,2:4])"
   ]
  }
 ],
 "metadata": {
  "interpreter": {
   "hash": "b2c8e16c7ccab309b6c7ff727be01f1772ce77360f8d9c2b6c3a69dbab5f4903"
  },
  "kernelspec": {
   "display_name": "Julia 1.7.2",
   "language": "julia",
   "name": "julia-1.7"
  },
  "language_info": {
   "file_extension": ".jl",
   "mimetype": "application/julia",
   "name": "julia",
   "version": "1.7.2"
  },
  "orig_nbformat": 4
 },
 "nbformat": 4,
 "nbformat_minor": 2
}
